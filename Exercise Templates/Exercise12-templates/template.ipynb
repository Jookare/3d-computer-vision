{
 "cells": [
  {
   "cell_type": "markdown",
   "metadata": {},
   "source": [
    "# Exercise 12\n",
    "FIRSTNAME LASTNAME"
   ]
  },
  {
   "cell_type": "markdown",
   "metadata": {},
   "source": [
    "## Task 1"
   ]
  },
  {
   "cell_type": "code",
   "execution_count": null,
   "metadata": {},
   "outputs": [],
   "source": [
    "import cv2 as cv\n",
    "import numpy as np\n",
    "import matplotlib.pyplot as plt\n",
    "import h5py"
   ]
  },
  {
   "cell_type": "code",
   "execution_count": null,
   "metadata": {},
   "outputs": [],
   "source": [
    "# Read the image\n",
    "\n",
    "\n",
    "# Define the centers of mass\n",
    "center_red   = (510,  175, 25)\n",
    "center_green = (720, -159, 25)\n",
    "center_blue  = (720,   45, 25)\n",
    "center_black = (460, -109, 25)\n",
    "\n",
    "# Find atleast 8 points from the image \n",
    "\n",
    "# Find the 2D point coordinates in 3D\n"
   ]
  },
  {
   "cell_type": "markdown",
   "metadata": {},
   "source": [
    "### Visualize the 3D points"
   ]
  },
  {
   "cell_type": "code",
   "execution_count": null,
   "metadata": {},
   "outputs": [],
   "source": [
    "fig = plt.figure()\n",
    "ax = fig.add_subplot(111, projection=\"3d\")"
   ]
  },
  {
   "cell_type": "markdown",
   "metadata": {},
   "source": [
    "### Find camera matrix"
   ]
  },
  {
   "cell_type": "code",
   "execution_count": null,
   "metadata": {},
   "outputs": [],
   "source": [
    "# Calibrate to find the camera matrix using 2d and 3d points.\n",
    "\n",
    "\n",
    "# Visualize the world coordinate center in the image"
   ]
  },
  {
   "cell_type": "markdown",
   "metadata": {},
   "source": [
    "### Visualize the camera pose in world frame"
   ]
  },
  {
   "cell_type": "code",
   "execution_count": null,
   "metadata": {},
   "outputs": [],
   "source": []
  },
  {
   "cell_type": "markdown",
   "metadata": {},
   "source": [
    "## Answer to the questions"
   ]
  },
  {
   "cell_type": "markdown",
   "metadata": {},
   "source": [
    "## Task 2"
   ]
  },
  {
   "cell_type": "code",
   "execution_count": null,
   "metadata": {},
   "outputs": [],
   "source": [
    "# Read the data\n",
    "with h5py.File(\"data/localization.mat\", \"r\") as f:\n",
    "    localization = {key: np.array(f[key]) for key in f}\n",
    "    \n",
    "# Read the image\n",
    "\n",
    "\n",
    "# Construct arrays for 2D and 3D points\n",
    "\n",
    "\n",
    "# Estimate the 3D locations\n",
    "\n",
    "\n",
    "\n",
    "# Visualize the estimated 3D and true 3D points\n",
    "\n",
    "\n",
    "# Use the projection matrix and compare the estimated 2D and true 2D points. Show the image on the background."
   ]
  }
 ],
 "metadata": {
  "kernelspec": {
   "display_name": "main310",
   "language": "python",
   "name": "python3"
  },
  "language_info": {
   "codemirror_mode": {
    "name": "ipython",
    "version": 3
   },
   "file_extension": ".py",
   "mimetype": "text/x-python",
   "name": "python",
   "nbconvert_exporter": "python",
   "pygments_lexer": "ipython3",
   "version": "3.10.14"
  }
 },
 "nbformat": 4,
 "nbformat_minor": 2
}
