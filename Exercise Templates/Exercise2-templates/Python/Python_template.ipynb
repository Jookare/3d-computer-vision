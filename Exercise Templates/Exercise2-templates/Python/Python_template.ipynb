{
 "cells": [
  {
   "cell_type": "markdown",
   "metadata": {},
   "source": [
    "# 3D Computer Vision - Exercise 2\n",
    "FIRSTNAME LASTNAME"
   ]
  },
  {
   "cell_type": "markdown",
   "metadata": {},
   "source": [
    "## Task 1. Intrinsic calibration (1 point)."
   ]
  },
  {
   "cell_type": "code",
   "execution_count": null,
   "metadata": {},
   "outputs": [],
   "source": [
    "import numpy as np\n",
    "\n",
    "# TODO: Define principle point, effective pixel size, focal length\n",
    "\n",
    "# TODO: Define point in camera frame\n",
    "\n",
    "# TODO: Compute camera frame coordinates (x, y) \n",
    "\n",
    "# TODO: Compute the pixel coordinates\n",
    "\n",
    "# Print the result\n",
    "print(f\"Pixel coordinates of projection point: {cP} => [{nx:.0f}, {ny:.0f}]\")"
   ]
  },
  {
   "cell_type": "markdown",
   "metadata": {},
   "source": [
    "## Task 2. Calibrated projection and weak perspective camera (2 points).\n",
    "\n",
    "Originally it was possible to read `.mat` files with scipy, but that is no longer the case so we need to use a package called [h5py](https://www.h5py.org/). See this [StackOverflow thread](https://stackoverflow.com/questions/874461/read-mat-files-in-python).\n",
    "\n",
    "You can install the package by running `pip3 install h5py` and then loading the data is straightforward"
   ]
  },
  {
   "cell_type": "code",
   "execution_count": null,
   "metadata": {},
   "outputs": [],
   "source": [
    "import h5py\n",
    "\n",
    "# Read the file\n",
    "with h5py.File('task3.mat', 'r') as f:\n",
    "    print(f.keys())\n",
    "    \n",
    "    # For some reason the values are transposed when read \n",
    "    WTC = np.array(f.get(\"WTC\")).T\n",
    "    colors = np.array(f.get(\"colors\")).T\n",
    "    points = np.array(f.get(\"points\")).T\n",
    "\n",
    "    # Shift so the minimum becomes 0\n",
    "    colors = colors - np.min(colors)  \n",
    "\n",
    "    # Scale so the maximum becomes 1\n",
    "    colors = colors / np.max(colors)  \n",
    "    \n",
    "    assert (WTC[3, :3] == 0).all(), \"WTC is transposed\""
   ]
  },
  {
   "cell_type": "code",
   "execution_count": null,
   "metadata": {},
   "outputs": [],
   "source": [
    "# TODO: Define principle point, effective pixel size, focal length\n",
    "\n",
    "# a) Plot points and camera frame "
   ]
  },
  {
   "cell_type": "code",
   "execution_count": 4,
   "metadata": {},
   "outputs": [],
   "source": [
    "# b) Camera matrix\n",
    "# TODO: Calculate projection matrix, points in projection plane, and image coordinates.\n",
    "\n",
    "# c) Plot the color projection\n"
   ]
  },
  {
   "cell_type": "code",
   "execution_count": null,
   "metadata": {},
   "outputs": [],
   "source": [
    "# d) Weak perspective camera\n",
    "\n",
    "# TODO: Calculate projection matrix, points in projection plane, image coordinates, and plot\n"
   ]
  },
  {
   "cell_type": "markdown",
   "metadata": {},
   "source": [
    "## Task 3. Projective points (1 point).\n",
    "\n",
    "One way to solve this is to use symbolic python (sympy) package"
   ]
  },
  {
   "cell_type": "code",
   "execution_count": null,
   "metadata": {},
   "outputs": [],
   "source": [
    "import sympy as sp\n",
    "\n",
    "# Define the symbolic variable f\n",
    "f = sp.symbols('f')\n",
    "\n",
    "# TODO Construct the projection matrix (Hint use sp.Matrix() and calculate points in projection  plane, and image coordinates\n",
    "\n",
    "# TODO: Print the results and answer to the questions in the task description."
   ]
  }
 ],
 "metadata": {
  "kernelspec": {
   "display_name": "Python 3",
   "language": "python",
   "name": "python3"
  },
  "language_info": {
   "codemirror_mode": {
    "name": "ipython",
    "version": 3
   },
   "file_extension": ".py",
   "mimetype": "text/x-python",
   "name": "python",
   "nbconvert_exporter": "python",
   "pygments_lexer": "ipython3",
   "version": "3.11.5"
  }
 },
 "nbformat": 4,
 "nbformat_minor": 2
}
