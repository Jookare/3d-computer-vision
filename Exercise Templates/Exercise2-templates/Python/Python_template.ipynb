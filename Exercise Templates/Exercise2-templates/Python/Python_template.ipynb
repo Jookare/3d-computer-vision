{
 "cells": [
  {
   "cell_type": "markdown",
   "metadata": {},
   "source": [
    "# 3D Computer Vision - Exercise 2\n",
    "FIRSTNAME LASTNAME"
   ]
  },
  {
   "cell_type": "markdown",
   "metadata": {},
   "source": [
    "## Task 1. Intrinsic calibration (1 point)."
   ]
  },
  {
   "cell_type": "code",
   "execution_count": 2,
   "metadata": {},
   "outputs": [],
   "source": [
    "import numpy as np\n",
    "\n",
    "# TODO: Define principal point, effective pixel size, focal length, and point in camera frame\n",
    "\n",
    "# TODO: Compute camera frame coordinates (x, y) and pixel coordinates\n",
    "\n",
    "# TODO: Print the result"
   ]
  },
  {
   "cell_type": "markdown",
   "metadata": {},
   "source": [
    "## Task 2. Calibrated projection and weak perspective camera (2 points).\n",
    "\n",
    "- You can install the `h5pyp` package by running `pip3 install h5py` \n",
    "- You can install `pyvista` by running `pip3 install pyvista[all]`"
   ]
  },
  {
   "cell_type": "code",
   "execution_count": null,
   "metadata": {},
   "outputs": [],
   "source": [
    "import h5py\n",
    "from plotting_utils import plot_frame, plot_color, plot_color_projection\n",
    "\n",
    "# Read the file\n",
    "with h5py.File('task2.mat', 'r') as f:\n",
    "    print(f.keys())\n",
    "    \n",
    "    # For some reason the values are transposed when read \n",
    "    WTC = np.array(f.get(\"WTC\")).T          # 4 x 4\n",
    "    colors = np.array(f.get(\"colors\")).T    # 3 x 19600\n",
    "    points = np.array(f.get(\"points\")).T    # 3 x 19600\n",
    "\n",
    "    # Shift so the minimum becomes 0\n",
    "    colors = colors - np.min(colors)  \n",
    "\n",
    "    # Scale so the maximum becomes 1\n",
    "    colors = colors / np.max(colors)  \n",
    "    \n",
    "    assert (WTC[3, :3] == 0).all(), \"WTC is transposed\"\n",
    "    "
   ]
  },
  {
   "cell_type": "code",
   "execution_count": null,
   "metadata": {},
   "outputs": [],
   "source": [
    "# TODO: Define principal point, effective pixel size, focal length\n",
    "\n",
    "# a) Plot points and camera frame "
   ]
  },
  {
   "cell_type": "code",
   "execution_count": 4,
   "metadata": {},
   "outputs": [],
   "source": [
    "# b) Camera matrix\n",
    "# TODO: Calculate projection matrix, points in projection plane, and image coordinates.\n",
    "\n",
    "# c) Plot the color projection\n"
   ]
  },
  {
   "cell_type": "code",
   "execution_count": null,
   "metadata": {},
   "outputs": [],
   "source": [
    "# d) Weak perspective camera\n",
    "\n",
    "# TODO: Calculate projection matrix, points in projection plane, image coordinates, and plot"
   ]
  },
  {
   "cell_type": "markdown",
   "metadata": {},
   "source": [
    "## Task 3. Projective points (1 point).\n",
    "\n",
    "This one does not require coding. Feel free to calculate it on a paper."
   ]
  }
 ],
 "metadata": {
  "kernelspec": {
   "display_name": "main310",
   "language": "python",
   "name": "python3"
  },
  "language_info": {
   "codemirror_mode": {
    "name": "ipython",
    "version": 3
   },
   "file_extension": ".py",
   "mimetype": "text/x-python",
   "name": "python",
   "nbconvert_exporter": "python",
   "pygments_lexer": "ipython3",
   "version": "3.10.14"
  }
 },
 "nbformat": 4,
 "nbformat_minor": 2
}
