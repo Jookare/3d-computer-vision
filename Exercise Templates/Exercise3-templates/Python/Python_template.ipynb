{
 "cells": [
  {
   "cell_type": "markdown",
   "metadata": {},
   "source": [
    "# 3D Computer Vision - Exercise 3\n",
    "FIRSTNAME LASTNAME"
   ]
  },
  {
   "cell_type": "markdown",
   "metadata": {},
   "source": [
    "## Task 1. Filtering with linear and median filters (1 point)"
   ]
  },
  {
   "cell_type": "code",
   "execution_count": null,
   "metadata": {},
   "outputs": [],
   "source": [
    "import numpy as np\n",
    "import matplotlib.pyplot as plt\n",
    "\n",
    "# define f(i) and m\n",
    "\n",
    "# compute median filtered f(i) (do not forget boundary elements)\n",
    "\n",
    "# define kernel and compute linear filtered f(i) (do not forget boundary elements)\n",
    "\n",
    "# show results"
   ]
  },
  {
   "cell_type": "markdown",
   "metadata": {},
   "source": [
    "## Task 2. Intrinsic calibration (1 point)\n",
    "You can install the `cv2` package by running `pip3 install opencv-python` "
   ]
  },
  {
   "cell_type": "code",
   "execution_count": null,
   "metadata": {},
   "outputs": [],
   "source": [
    "import cv2"
   ]
  },
  {
   "cell_type": "markdown",
   "metadata": {},
   "source": [
    "### Helper functions for displaying images"
   ]
  },
  {
   "cell_type": "code",
   "execution_count": null,
   "metadata": {},
   "outputs": [],
   "source": [
    "def show_image(img, title):\n",
    "    \"\"\"\n",
    "    Displays an image with a given title.\n",
    "    Parameters:\n",
    "        img (ndarray): The image to be displayed.\n",
    "        title (str): The title of the image.\n",
    "    \"\"\"\n",
    "\n",
    "    plt.imshow(img, cmap=\"gray\")\n",
    "    plt.xticks([]), plt.yticks([])\n",
    "    plt.tight_layout()\n",
    "    plt.title(title)\n",
    "    plt.show()\n",
    "\n",
    "\n",
    "def show_images(imgs: list[np.ndarray], titles: list[str], suptitle: str | None = None):\n",
    "    \"\"\"\n",
    "    Display a list of images side by side with corresponding titles.\n",
    "    Parameters:\n",
    "        imgs (list[np.ndarray]): List of images to display. Each image should be a NumPy array.\n",
    "        titles (list[str]): List of titles corresponding to each image.\n",
    "        suptitle (str | None, optional): A super title for the entire figure. Defaults to None.\n",
    "    \"\"\"\n",
    "\n",
    "    # calculate aspect ratio\n",
    "    aspect = imgs[0].shape[1] / imgs[0].shape[0]\n",
    "\n",
    "    # create figure and axes\n",
    "    fig, axs = plt.subplots(1, len(imgs), figsize=(5 * len(imgs) * aspect, 5))\n",
    "    for i, img in enumerate(imgs):\n",
    "        axs[i].imshow(img, cmap=\"gray\")\n",
    "        axs[i].set_title(titles[i])\n",
    "        axs[i].axis(\"off\")\n",
    "\n",
    "    if suptitle:\n",
    "        fig.suptitle(suptitle)\n",
    "\n",
    "    # show\n",
    "    plt.tight_layout()\n",
    "    plt.show()"
   ]
  },
  {
   "cell_type": "code",
   "execution_count": null,
   "metadata": {},
   "outputs": [],
   "source": [
    "# load and normalize the image\n",
    "\n",
    "# add Gaussian noise to the image"
   ]
  },
  {
   "cell_type": "markdown",
   "metadata": {},
   "source": [
    "### a) Gaussian filtering (Gaussian noise)"
   ]
  },
  {
   "cell_type": "code",
   "execution_count": null,
   "metadata": {},
   "outputs": [],
   "source": [
    "# try out different sizes of the kernel and different σ\n",
    "\n",
    "# show results"
   ]
  },
  {
   "cell_type": "markdown",
   "metadata": {},
   "source": [
    "### b) Median filtering (Gaussian noise)\n",
    "\n",
    "Do note that cv.medianBlur works only for uint8 image"
   ]
  },
  {
   "cell_type": "code",
   "execution_count": null,
   "metadata": {},
   "outputs": [],
   "source": [
    "# try out different kernel sizes\n",
    "\n",
    "# show results"
   ]
  },
  {
   "cell_type": "markdown",
   "metadata": {},
   "source": [
    "### TODO: answer the questions"
   ]
  },
  {
   "cell_type": "code",
   "execution_count": null,
   "metadata": {},
   "outputs": [],
   "source": [
    "# add salt and pepper noise to the original image\n"
   ]
  },
  {
   "cell_type": "markdown",
   "metadata": {},
   "source": [
    "### a) Gaussian filtering (Salt&Pepper noise)"
   ]
  },
  {
   "cell_type": "code",
   "execution_count": null,
   "metadata": {},
   "outputs": [],
   "source": [
    "# try out different sizes of the kernel and different σ\n",
    "\n",
    "# show results"
   ]
  },
  {
   "cell_type": "markdown",
   "metadata": {},
   "source": [
    "### b) Median filtering (Salt&Pepper noise)"
   ]
  },
  {
   "cell_type": "code",
   "execution_count": null,
   "metadata": {},
   "outputs": [],
   "source": [
    "# try out different kernel sizes\n",
    "\n",
    "# show results"
   ]
  },
  {
   "cell_type": "markdown",
   "metadata": {},
   "source": [
    "## Task 3. Edge detectors (2 points)\n",
    "You can install the `skimage` package by running `pip3 install scikit-image` "
   ]
  },
  {
   "cell_type": "code",
   "execution_count": null,
   "metadata": {},
   "outputs": [],
   "source": [
    "from skimage.morphology import skeletonize\n",
    "\n",
    "# load image\n",
    "\n",
    "# apply Gaussian filter to smooth out the image\n",
    "\n",
    "# find gradients (do NOT use ready made functions like cv.filter2D or cv.Sobel)\n",
    "\n",
    "# threshold image\n",
    "\n",
    "# thin the image using \"skeletonize\"\n",
    "\n",
    "# show result"
   ]
  },
  {
   "cell_type": "markdown",
   "metadata": {},
   "source": [
    "### TODO: answer the question"
   ]
  },
  {
   "cell_type": "code",
   "execution_count": null,
   "metadata": {},
   "outputs": [],
   "source": [
    "# apply canny edge detector to the original image (Here cv.Canny allowed!)\n",
    "\n",
    "# show result and compare with the first edge image"
   ]
  }
 ],
 "metadata": {
  "kernelspec": {
   "display_name": "main310",
   "language": "python",
   "name": "python3"
  },
  "language_info": {
   "name": "python",
   "version": "3.10.14"
  }
 },
 "nbformat": 4,
 "nbformat_minor": 2
}
