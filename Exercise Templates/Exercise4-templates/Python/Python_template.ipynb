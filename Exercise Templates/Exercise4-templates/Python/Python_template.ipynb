{
 "cells": [
  {
   "cell_type": "markdown",
   "metadata": {},
   "source": [
    "# 3D Computer Vision - Exercise 4\n",
    "FIRSTNAME LASTNAME"
   ]
  },
  {
   "cell_type": "markdown",
   "metadata": {},
   "source": [
    "## Task 1. Corner detection (2 points)."
   ]
  },
  {
   "cell_type": "code",
   "execution_count": null,
   "metadata": {},
   "outputs": [],
   "source": [
    "import numpy as np\n",
    "import cv2 as cv\n",
    "import matplotlib.pyplot as plt\n",
    "\n",
    "\n",
    "def find_corners(img, N, t, k = None):\n",
    "    \"\"\"\n",
    "    args:\n",
    "        img: Input image, grayscale and float32 type.\n",
    "        N: Size of the local neighborhood\n",
    "        t: Threshold\n",
    "        k: Harris detector parameter\n",
    "    \"\"\"\n",
    "    # Determine the method based on the value of k\n",
    "    if k is None:\n",
    "        method = \"Tomasi-Kanade\"\n",
    "    else:\n",
    "        method = \"Harris\"\n",
    "        \n",
    "    # Define kernels for computing image gradients\n",
    "    \n",
    "    # Compute image gradients using convolution\n",
    "    \n",
    "    # Iterate over each neighbour hood in the image\n",
    "    row, col = img.shape\n",
    "    for i in range(N, row - N):\n",
    "        for j in range(N, col - N):\n",
    "            \n",
    "            # Calculate the Structure tensor\n",
    "            \n",
    "            \n",
    "            # Depending on the method:\n",
    "            if method == \"Tomasi-Kanade\":\n",
    "                # TODO: Compute eigenvalues and check threshold condition\n",
    "                ...\n",
    "            \n",
    "            else: \n",
    "                # TODO: Compute Harris corner measure and check threshold condition\n",
    "                ...\n",
    "                \n",
    "    # Sort the values from largest to smallest\n",
    "    \n",
    "    # Perform non-maximum suppression  \n",
    "    \n",
    "    \n",
    "    # Return the corner (x,y) points\n",
    "    return ...\n",
    "\n",
    "\n",
    "# Read the image as grayscale and transform it into np.float32\n",
    "\n",
    "# Define parameters for the corner detection\n",
    "\n",
    "# Find corners using the Harris method\n",
    "\n",
    "# Visualize the detected corners on the original image\n",
    "# NOTE: It is easy to see if your method is working\n",
    "\n",
    "\n",
    "\n",
    "# Modify the threshold and find corners using the Tomasi-Kanade method.\n",
    "\n",
    "# Visualize the results for Tomasi-Kanade\n",
    "\n",
    "# ! ANSWER to the questions"
   ]
  },
  {
   "cell_type": "markdown",
   "metadata": {},
   "source": [
    "## Task 2. Scale invariant interest points (2 points)."
   ]
  },
  {
   "cell_type": "code",
   "execution_count": null,
   "metadata": {},
   "outputs": [],
   "source": [
    "import numpy as np\n",
    "import cv2 as cv\n",
    "import matplotlib.pyplot as plt\n",
    "\n",
    "# (optional) define the find_extremas as function for easy use for the second lena img\n",
    "def find_extremas(img, sigma):\n",
    "    # Calculate the Difference of Gaussian (check cv.GaussianBlur)\n",
    "\n",
    "    # Find the local maxima and minima\n",
    "    # Initialize a list to store extrema\n",
    "    extrema = []\n",
    "    rows, cols = img.shape\n",
    "    \n",
    "    # Define the neighborhood size\n",
    "    \n",
    "\n",
    "    # Loop through the DOGs\n",
    "        # Define the neighborhood around the current pixel\n",
    "\n",
    "        # Get the min and max value in the neighborhood\n",
    "\n",
    "        # Check if the current pixel is a local maximum or minimum\n",
    "    # Return the list of extrema\n",
    "    return ...\n",
    "\n",
    "# Read the image, convert to double and scale the values between [0, 1].\n",
    "\n",
    "# Find extremas\n",
    "\n",
    "# Define a threshold for extrema visualization\n",
    "\n",
    "# Plot the extremas on top of the image\n",
    "\n",
    "\n",
    "# Do same thing for the lena_bw_transformed.png and ANSWER to the questions\n",
    "\n"
   ]
  }
 ],
 "metadata": {
  "kernelspec": {
   "display_name": "main310",
   "language": "python",
   "name": "python3"
  },
  "language_info": {
   "name": "python",
   "version": "3.10.14"
  }
 },
 "nbformat": 4,
 "nbformat_minor": 2
}
