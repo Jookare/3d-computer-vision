{
 "cells": [
  {
   "cell_type": "markdown",
   "metadata": {},
   "source": [
    "# 3D Computer Vision - Exercise 5\n",
    "FIRSTNAME LASTNAME"
   ]
  },
  {
   "cell_type": "markdown",
   "metadata": {},
   "source": [
    "## Task 1. Line fitting with gradient method (2 points)"
   ]
  },
  {
   "cell_type": "code",
   "execution_count": null,
   "metadata": {},
   "outputs": [],
   "source": [
    "import numpy as np\n",
    "import h5py\n",
    "import matplotlib.pyplot as plt"
   ]
  },
  {
   "cell_type": "code",
   "execution_count": null,
   "metadata": {},
   "outputs": [],
   "source": [
    "# load data\n",
    "\n",
    "\n",
    "# define functions computing partial derivatives\n",
    "def daf(x, y, a, b, c):\n",
    "    return ...\n",
    "\n",
    "def dbf(x, y, a, b, c):\n",
    "    return ...\n",
    "\n",
    "def dcf(x, y, a, b, c):\n",
    "    return ...\n",
    "\n",
    "\n",
    "# code the gradient descent fitting, find some good hyperparameters\n",
    "\n",
    "\n",
    "# show results\n"
   ]
  },
  {
   "cell_type": "markdown",
   "metadata": {},
   "source": [
    "## Task 2. RANSAC (2 points)"
   ]
  },
  {
   "cell_type": "code",
   "execution_count": null,
   "metadata": {},
   "outputs": [],
   "source": [
    "def visualize_fit(x, y, a, b, c, d):\n",
    "    \"\"\"Use this function to draw points and the fitted conical section\n",
    "\n",
    "    Args:\n",
    "        x (np.ndarray): X coordinates of the data\n",
    "        y (np.ndarray): Y coordinates of the data\n",
    "        a (np.ndarray): a parameter\n",
    "        b (np.ndarray): b parameter\n",
    "        c (np.ndarray): c parameter\n",
    "        d (np.ndarray): d parameter\n",
    "    \"\"\"\n",
    "    plt.figure(figsize=(6, 6))  # define size to prevent scaling issues\n",
    "    plt.scatter(x, y, s=1)\n",
    "\n",
    "    xv = np.linspace(-100, 100, 400)\n",
    "    yv = np.linspace(-100, 100, 400)\n",
    "    xc, yc = np.meshgrid(xv, yv)\n",
    "    zc = a * xc**2 + a * yc**2 + b * xc + c * yc + d\n",
    "    plt.contour(xc, yc, zc, levels=[0], colors=\"red\")\n",
    "    plt.show()"
   ]
  },
  {
   "cell_type": "markdown",
   "metadata": {},
   "source": [
    "### a)"
   ]
  },
  {
   "cell_type": "code",
   "execution_count": null,
   "metadata": {},
   "outputs": [],
   "source": [
    "# load data\n",
    "\n",
    "\n",
    "# show data\n"
   ]
  },
  {
   "cell_type": "markdown",
   "metadata": {},
   "source": [
    "#### TODO: answer the question"
   ]
  },
  {
   "cell_type": "markdown",
   "metadata": {},
   "source": [
    "### b)\n"
   ]
  },
  {
   "cell_type": "code",
   "execution_count": null,
   "metadata": {},
   "outputs": [],
   "source": [
    "# define function for algebraic fitting\n",
    "def algebraic_fitting(x, y):\n",
    "    X = ...\n",
    "    U, S, V = np.linalg.svd(X)\n",
    "    a, b, c, d = ...\n",
    "    return a, b, c, d\n",
    "\n",
    "# try the algebraic fitting on the data and show the result\n"
   ]
  },
  {
   "cell_type": "markdown",
   "metadata": {},
   "source": [
    "#### TODO: answer the question"
   ]
  },
  {
   "cell_type": "markdown",
   "metadata": {},
   "source": [
    "### c)"
   ]
  },
  {
   "cell_type": "code",
   "execution_count": null,
   "metadata": {},
   "outputs": [],
   "source": [
    "# implement ransac\n"
   ]
  },
  {
   "cell_type": "markdown",
   "metadata": {},
   "source": [
    "#### d)"
   ]
  },
  {
   "cell_type": "code",
   "execution_count": null,
   "metadata": {},
   "outputs": [],
   "source": [
    "# apply ransac to the points\n",
    "\n",
    "\n",
    "# show results\n"
   ]
  },
  {
   "cell_type": "markdown",
   "metadata": {},
   "source": [
    "#### TODO: answer the question"
   ]
  }
 ],
 "metadata": {
  "kernelspec": {
   "display_name": "main310",
   "language": "python",
   "name": "python3"
  },
  "language_info": {
   "name": "python",
   "version": "3.10.14"
  }
 },
 "nbformat": 4,
 "nbformat_minor": 2
}
