{
 "cells": [
  {
   "cell_type": "markdown",
   "metadata": {},
   "source": [
    "# 3D Computer Vision - Exercise 6\n",
    "FIRSTNAME LASTNAME"
   ]
  },
  {
   "cell_type": "markdown",
   "metadata": {},
   "source": [
    "## Task 1. Detection by color thresholding (1 point)."
   ]
  },
  {
   "cell_type": "code",
   "execution_count": null,
   "metadata": {},
   "outputs": [],
   "source": [
    "import cv2\n",
    "import numpy as np\n",
    "import matplotlib.pyplot as plt\n",
    "\n",
    "def show_images(images, titles):\n",
    "    fig, ax = plt.subplots(1, len(images), figsize=(15, 6))\n",
    "    for idx, img in enumerate(images):\n",
    "        ax[idx].imshow(img, cmap='gray' if len(img.shape) == 2 else None)\n",
    "        ax[idx].set_title(titles[idx])\n",
    "        ax[idx].axis('off')\n",
    "    plt.show()\n",
    "\n",
    "\n",
    "# Read blocks image, convert to RGB and HSV variants \n",
    "\n",
    "# RGB thresholding\n",
    "\n",
    "# HSV thresholding\n",
    "\n",
    "# Display the results for the blocks image\n",
    "\n",
    "# Read circles image, convert to RGB and HSV variants \n",
    "\n",
    "# RGB thresholding\n",
    "\n",
    "# HSV thresholding\n",
    "\n",
    "# Display the results for the circles image"
   ]
  },
  {
   "cell_type": "markdown",
   "metadata": {},
   "source": [
    "### Answer to the questions:"
   ]
  }
 ],
 "metadata": {
  "kernelspec": {
   "display_name": "base",
   "language": "python",
   "name": "python3"
  },
  "language_info": {
   "codemirror_mode": {
    "name": "ipython",
    "version": 3
   },
   "file_extension": ".py",
   "mimetype": "text/x-python",
   "name": "python",
   "nbconvert_exporter": "python",
   "pygments_lexer": "ipython3",
   "version": "3.10.12"
  }
 },
 "nbformat": 4,
 "nbformat_minor": 2
}
