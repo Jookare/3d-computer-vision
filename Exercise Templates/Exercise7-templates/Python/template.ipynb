{
 "cells": [
  {
   "cell_type": "markdown",
   "metadata": {},
   "source": [
    "# Computer Vision - Exercise 7\n",
    "FIRSTNAME LASTNAME"
   ]
  },
  {
   "cell_type": "code",
   "execution_count": null,
   "metadata": {},
   "outputs": [],
   "source": [
    "import h5py\n",
    "import matplotlib.pyplot as plt\n",
    "import numpy as np\n"
   ]
  },
  {
   "cell_type": "markdown",
   "metadata": {},
   "source": [
    "## Task 1"
   ]
  },
  {
   "cell_type": "markdown",
   "metadata": {},
   "source": [
    "### a)"
   ]
  },
  {
   "cell_type": "code",
   "execution_count": null,
   "metadata": {},
   "outputs": [],
   "source": [
    "# TODO load file cube_points.mat\n"
   ]
  },
  {
   "cell_type": "code",
   "execution_count": null,
   "metadata": {},
   "outputs": [],
   "source": [
    "def plot_projection(points, connecting_indices, ax=None):\n",
    "    \"\"\"Plot 2D projection of the cube.\"\"\"\n",
    "    if ax is None:\n",
    "        ax = plt.gca()\n",
    "\n",
    "    # TODO define function to plot the cube\n",
    "    # you can use connecting_indices for both 2D and 3D plotting, it still works\n",
    "\n",
    "\n",
    "    ax.set_aspect(\"equal\", adjustable=\"box\")\n"
   ]
  },
  {
   "cell_type": "code",
   "execution_count": null,
   "metadata": {},
   "outputs": [],
   "source": [
    "# TODO plot the 3D cube and the projection nicely side by side\n",
    "# you can use matplotlib for both, it will be easier than using pyvista"
   ]
  },
  {
   "cell_type": "markdown",
   "metadata": {},
   "source": [
    "### b)"
   ]
  },
  {
   "cell_type": "code",
   "execution_count": null,
   "metadata": {},
   "outputs": [],
   "source": [
    "def calibrate(points2d, points3d):\n",
    "    # TODO\n",
    "\n",
    "    return ...\n"
   ]
  },
  {
   "cell_type": "code",
   "execution_count": null,
   "metadata": {},
   "outputs": [],
   "source": [
    "# TODO perform calibration and apply it to the 3D points\n",
    "\n"
   ]
  },
  {
   "cell_type": "markdown",
   "metadata": {},
   "source": [
    "### c)"
   ]
  },
  {
   "cell_type": "code",
   "execution_count": null,
   "metadata": {},
   "outputs": [],
   "source": [
    "# TODO plot the results\n",
    "\n"
   ]
  },
  {
   "cell_type": "code",
   "execution_count": null,
   "metadata": {},
   "outputs": [],
   "source": [
    "# TODO calcuate reprojection error and print it\n"
   ]
  },
  {
   "cell_type": "markdown",
   "metadata": {},
   "source": [
    "### d)"
   ]
  },
  {
   "cell_type": "code",
   "execution_count": null,
   "metadata": {},
   "outputs": [],
   "source": [
    "def calibrate_norm(points2d, points3d):\n",
    "    # TODO implement normalization\n",
    "\n",
    "    normalized_2d_pts = ...\n",
    "    normalized_3d_pts = ...\n",
    "\n",
    "    M = calibrate(normalized_2d_pts, normalized_3d_pts)\n",
    "\n",
    "    # TODO do not forget to denormalize\n",
    "    denormalized_M = ...\n",
    "\n",
    "    return denormalized_M\n"
   ]
  },
  {
   "cell_type": "markdown",
   "metadata": {},
   "source": [
    "### e)"
   ]
  },
  {
   "cell_type": "code",
   "execution_count": null,
   "metadata": {},
   "outputs": [],
   "source": [
    "# TODO load file cube_points_noisy.mat"
   ]
  },
  {
   "cell_type": "code",
   "execution_count": null,
   "metadata": {},
   "outputs": [],
   "source": [
    "# TODO plot the noisy 3D cube and noisy projection side by side so you can see what you are dealing with"
   ]
  },
  {
   "cell_type": "code",
   "execution_count": null,
   "metadata": {},
   "outputs": [],
   "source": [
    "# TODO calibrate without normalization\n",
    "\n",
    "\n",
    "# TODO apply the calculated transformation\n",
    "\n",
    "\n",
    "# TODO calculate the error\n"
   ]
  },
  {
   "cell_type": "code",
   "execution_count": null,
   "metadata": {},
   "outputs": [],
   "source": [
    "# TODO calibrate with normalization\n",
    "\n",
    "\n",
    "# TODO apply the calculated transformation\n",
    "\n",
    "\n",
    "# TODO calculate the error\n"
   ]
  },
  {
   "cell_type": "code",
   "execution_count": null,
   "metadata": {},
   "outputs": [],
   "source": [
    "# TODO compare the two results"
   ]
  },
  {
   "cell_type": "markdown",
   "metadata": {},
   "source": [
    "⚠️ TODO: Answer the questions ⚠️"
   ]
  },
  {
   "cell_type": "markdown",
   "metadata": {},
   "source": [
    "## Task 2"
   ]
  },
  {
   "cell_type": "code",
   "execution_count": null,
   "metadata": {},
   "outputs": [],
   "source": [
    "from scipy.linalg import rq\n",
    "\n",
    "def decompose_projection(M):\n",
    "    # TODO implement the decomposition\n",
    "\n",
    "\n",
    "\n",
    "    # rq decomposition can throw a weird result, this make sure that the result is valid for our purposes\n",
    "    R = R * np.sign(K[-1,-1])\n",
    "    K = K * np.sign(K[-1,-1])\n",
    "\n",
    "    return K, R, C\n"
   ]
  },
  {
   "cell_type": "code",
   "execution_count": null,
   "metadata": {},
   "outputs": [],
   "source": [
    "\n",
    "M = ... # TODO use the matrix created in Task 1\n",
    "K, R, C = decompose_projection(M) \n",
    "\n",
    "M_reconstructed = ...\n",
    "\n",
    "print(f\"The result is {'correct.' if np.allclose(M, M_reconstructed) else '🚨NOT CORRECT🚨!'}\")\n"
   ]
  },
  {
   "cell_type": "code",
   "execution_count": null,
   "metadata": {},
   "outputs": [],
   "source": [
    "def plot_frame(ax, T, name=\"\"):\n",
    "    \"\"\"Function that plots the world frames\"\"\"\n",
    "    # Origin\n",
    "    l = 0.25\n",
    "    ax.quiver(T[0, 3], T[1, 3], T[2, 3], T[0, 0], T[1, 0], T[2, 0], color=\"r\", length=l)\n",
    "    ax.quiver(T[0, 3], T[1, 3], T[2, 3], T[0, 1], T[1, 1], T[2, 1], color=\"g\", length=l)\n",
    "    ax.quiver(T[0, 3], T[1, 3], T[2, 3], T[0, 2], T[1, 2], T[2, 2], color=\"b\", length=l)\n",
    "\n",
    "    ax.text(T[0, 3] + T[0, 0] * l, T[1, 3] + T[1, 0] * l, T[2, 3] + T[2, 0] * l, f\"{name}X\")\n",
    "    ax.text(T[0, 3] + T[0, 1] * l, T[1, 3] + T[1, 1] * l, T[2, 3] + T[2, 1] * l, f\"{name}Y\")\n",
    "    ax.text(T[0, 3] + T[0, 2] * l, T[1, 3] + T[1, 2] * l, T[2, 3] + T[2, 2] * l, f\"{name}Z\")\n"
   ]
  },
  {
   "cell_type": "code",
   "execution_count": null,
   "metadata": {},
   "outputs": [],
   "source": [
    "# you can use %matplotlib widget for interactive plot, but use %matplotlib inline for submission\n",
    "\n",
    "# TODO plot the coordinate frame together with the cube"
   ]
  }
 ],
 "metadata": {
  "kernelspec": {
   "display_name": "main310",
   "language": "python",
   "name": "python3"
  },
  "language_info": {
   "codemirror_mode": {
    "name": "ipython",
    "version": 3
   },
   "file_extension": ".py",
   "mimetype": "text/x-python",
   "name": "python",
   "nbconvert_exporter": "python",
   "pygments_lexer": "ipython3",
   "version": "3.10.14"
  }
 },
 "nbformat": 4,
 "nbformat_minor": 2
}
