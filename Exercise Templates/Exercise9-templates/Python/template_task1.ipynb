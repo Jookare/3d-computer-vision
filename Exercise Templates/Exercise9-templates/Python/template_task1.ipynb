{
 "cells": [
  {
   "cell_type": "markdown",
   "metadata": {},
   "source": [
    "# Exercise 9\n",
    "FIRSTNAME LASTNAME\n",
    "## Task 1 - Linear Triangulation with DLT (2 points)"
   ]
  },
  {
   "cell_type": "code",
   "execution_count": 1,
   "metadata": {},
   "outputs": [],
   "source": [
    "import numpy as np\n",
    "import h5py\n"
   ]
  },
  {
   "cell_type": "code",
   "execution_count": null,
   "metadata": {},
   "outputs": [],
   "source": [
    "# load file for Task 1\n",
    "with h5py.File('task1.mat', 'r') as file:\n",
    "    data = {key: np.array(file[key]).T for key in file.keys()}\n",
    "\n",
    "F = data[\"F\"]\n",
    "points_l = np.concatenate([data[\"points_l\"], np.ones((1, data[\"points_l\"].shape[1]))], axis=0)\n",
    "points_r = np.concatenate([data[\"points_r\"], np.ones((1, data[\"points_r\"].shape[1]))], axis=0)"
   ]
  },
  {
   "cell_type": "code",
   "execution_count": null,
   "metadata": {},
   "outputs": [],
   "source": [
    "# compute epipoles\n",
    "er = ...\n",
    "el = ..."
   ]
  },
  {
   "cell_type": "code",
   "execution_count": null,
   "metadata": {},
   "outputs": [],
   "source": [
    "# find camera matrices Mr and Ml\n",
    "Ml = ...\n",
    "Mr = ...\n"
   ]
  },
  {
   "cell_type": "code",
   "execution_count": null,
   "metadata": {},
   "outputs": [],
   "source": [
    "# perform linear triangulation\n"
   ]
  },
  {
   "cell_type": "code",
   "execution_count": null,
   "metadata": {},
   "outputs": [],
   "source": [
    "# compute and print the error\n"
   ]
  }
 ],
 "metadata": {
  "kernelspec": {
   "display_name": "base",
   "language": "python",
   "name": "python3"
  },
  "language_info": {
   "codemirror_mode": {
    "name": "ipython",
    "version": 3
   },
   "file_extension": ".py",
   "mimetype": "text/x-python",
   "name": "python",
   "nbconvert_exporter": "python",
   "pygments_lexer": "ipython3",
   "version": "3.10.12"
  }
 },
 "nbformat": 4,
 "nbformat_minor": 2
}
