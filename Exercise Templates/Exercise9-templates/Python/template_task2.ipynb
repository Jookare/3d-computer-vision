{
 "cells": [
  {
   "cell_type": "markdown",
   "metadata": {},
   "source": [
    "# Exercise 9\n",
    "FIRSTNAME LASTNAME\n",
    "## Task 2 - Rectification"
   ]
  },
  {
   "cell_type": "code",
   "execution_count": null,
   "metadata": {},
   "outputs": [],
   "source": [
    "import numpy as np\n",
    "import matplotlib.pyplot as plt\n",
    "import cv2 as cv\n",
    "import h5py"
   ]
  },
  {
   "cell_type": "code",
   "execution_count": null,
   "metadata": {},
   "outputs": [],
   "source": [
    "# load data\n",
    "with h5py.File('task2.mat', 'r') as file:\n",
    "    data = {key: np.array(file[key]).T for key in file.keys()}\n",
    "\n",
    "F = data[\"F\"]\n",
    "points_l = data[\"points_l\"]\n",
    "points_r = data[\"points_r\"]\n",
    "Ml = data[\"Ml\"]\n",
    "Mr = data[\"Mr\"]"
   ]
  },
  {
   "cell_type": "code",
   "execution_count": null,
   "metadata": {},
   "outputs": [],
   "source": [
    "imgl = cv.imread(\"books1.jpg\", cv.IMREAD_GRAYSCALE)\n",
    "imgr = cv.imread(\"books2.jpg\", cv.IMREAD_GRAYSCALE)"
   ]
  },
  {
   "cell_type": "code",
   "execution_count": null,
   "metadata": {},
   "outputs": [],
   "source": [
    "# TODO compute epipoles once more\n",
    "el = ...\n",
    "er = ..."
   ]
  },
  {
   "cell_type": "code",
   "execution_count": null,
   "metadata": {},
   "outputs": [],
   "source": [
    "def deshear(img, H):\n",
    "    # this is already fully implemented and used, you do not need to do anything with this function\n",
    "    h, w = img.shape\n",
    "    hh, hw = np.array(img.shape) // 2\n",
    "    a = H @ np.array([hw, 1, 1])\n",
    "    a /= a[-1]\n",
    "    b = H @ np.array([w, hh, 1])\n",
    "    b /= b[-1]\n",
    "    c = H @ np.array([hw, h, 1])\n",
    "    c /= c[-1]\n",
    "    d = H @ np.array([1, hh, 1])\n",
    "    d /= d[-1]\n",
    "    x = b - d\n",
    "    y = c - a\n",
    "    k1 = (h**2 * x[1] ** 2 + w**2 * y[1] ** 2) / (h * w * (x[1] * y[0] - x[0] * y[1]))\n",
    "    k2 = (h**2 * x[0] * x[1] + w**2 * y[0] * y[1]) / (h * w * (x[0] * y[1] - x[1] * y[0]))\n",
    "\n",
    "    Hn = np.eye(3)\n",
    "    Hn[0, :2] = [-k1, -k2]\n",
    "    return Hn\n"
   ]
  },
  {
   "cell_type": "code",
   "execution_count": null,
   "metadata": {},
   "outputs": [],
   "source": [
    "center = np.array(imgl.shape) // 2\n",
    "\n",
    "\n",
    "def rectify_right(er, center):\n",
    "    # TODO implement rectify right\n",
    "    \n",
    "    # TODO: Define matrix G\n",
    "    \n",
    "    # TODO: Define transformation matrix T \n",
    "    # Moves image center to (0,0,1)\n",
    "    \n",
    "    # TODO: Define transformation matrix R\n",
    "    # Moves translated epipole (e1',e2',1) into (f,0,1)\n",
    "    \n",
    "    Hr = ...\n",
    "\n",
    "\n",
    "Hr = rectify_right(er, center)\n",
    "Hrf = deshear(imgr, Hr) @ Hr\n"
   ]
  },
  {
   "cell_type": "code",
   "execution_count": null,
   "metadata": {},
   "outputs": [],
   "source": [
    "def rectify_left(pl, pr, Mr, Hr):\n",
    "    # TODO implement rectify left\n",
    "    \n",
    "    # TODO: Check that fundamental matrix F is of form [e_r]_x M\n",
    "    # Hint: What needs to hold for this to be true?\n",
    "    ...\n",
    "\n",
    "\n",
    "Hl = rectify_left(points_l, points_r, Mr, Hrf)\n",
    "Hlf = deshear(imgl, Hl) @ Hl\n"
   ]
  },
  {
   "cell_type": "markdown",
   "metadata": {},
   "source": [
    "## Helper functions"
   ]
  },
  {
   "cell_type": "code",
   "execution_count": null,
   "metadata": {},
   "outputs": [],
   "source": [
    "import numpy as np\n",
    "from scipy.interpolate import LinearNDInterpolator\n",
    "from skimage import img_as_float\n",
    "\n",
    "\n",
    "def interpolate_transform_image(I, H):\n",
    "    # Create meshgrid over the image\n",
    "    xl, yl = np.meshgrid(\n",
    "        np.arange(I.shape[1]), \n",
    "        np.arange(I.shape[0]), \n",
    "        indexing=\"xy\"\n",
    "    )\n",
    "    # Turn the 2D grid into 1D arrays\n",
    "    p1 = np.vstack((xl.ravel(), yl.ravel(), np.ones(xl.size)))\n",
    "\n",
    "    # Transform the points and normalize\n",
    "    p2 = H @ p1\n",
    "    p2 /= p2[2]\n",
    "\n",
    "    # Interpolate the image to the points\n",
    "    I = img_as_float(I)\n",
    "    cL = I.ravel()\n",
    "    F = LinearNDInterpolator(p2[:2].T, cL)\n",
    "\n",
    "    return F, p2\n",
    "\n",
    "\n",
    "def warp_images(Fl, pl2, Fr, pr2):\n",
    "    # Find min and max values\n",
    "    minL = np.min(pl2[:2, :], axis=1)\n",
    "    maxL = np.max(pl2[:2, :], axis=1)\n",
    "    minR = np.min(pr2[:2, :], axis=1)\n",
    "    maxR = np.max(pr2[:2, :], axis=1)\n",
    "\n",
    "    minLR = np.minimum(minL, minR)\n",
    "    maxLR = np.maximum(maxL, maxR)\n",
    "\n",
    "    # Create meshgrid over the min and max values\n",
    "    X, Y = np.meshgrid(\n",
    "        np.arange(np.floor(minLR[0]), np.ceil(maxLR[0])+1),\n",
    "        np.arange(np.floor(minLR[1]), np.ceil(maxLR[1])+1),\n",
    "        indexing='xy'\n",
    "    )\n",
    "    Il1 = Fl(X, Y)\n",
    "    Ir1 = Fr(X, Y)\n",
    "\n",
    "    return Il1, Ir1, minLR\n"
   ]
  },
  {
   "cell_type": "markdown",
   "metadata": {},
   "source": [
    "## Visualize the results"
   ]
  },
  {
   "cell_type": "code",
   "execution_count": null,
   "metadata": {},
   "outputs": [],
   "source": [
    "# interpolate and show stuff\n",
    "Fr, pr2 = interpolate_transform_image(imgr, Hrf)\n",
    "Fl, pl2 = interpolate_transform_image(imgl, Hlf)\n",
    "\n",
    "wil, wir, minlr = warp_images(Fl, pl2, Fr, pr2)\n",
    "\n",
    "pln = Hlf @ points_l\n",
    "pln = pln[:2] / pln[2] - minlr[:, None]\n",
    "prn = Hrf @ points_r\n",
    "prn = prn[:2] / prn[2] - minlr[:, None]\n",
    "\n",
    "h, w = wil.shape\n",
    "for ptl, ptr in zip(pln.T, prn.T):\n",
    "    plt.plot([0, w*2], [ptl[1], ptr[1]], \"-c\", lw=1, ms=0)\n",
    "    plt.plot([ptl[0], ptr[0] + w], [ptl[1], ptr[1]], \"or\", lw=1, ms=3)\n",
    "\n",
    "\n",
    "plt.imshow(np.concatenate([wil, wir], axis=1), cmap=\"gray\")\n",
    "plt.tight_layout()\n",
    "plt.axis(\"off\")\n",
    "plt.show()"
   ]
  },
  {
   "cell_type": "markdown",
   "metadata": {},
   "source": [
    "## Questions and answers:"
   ]
  }
 ],
 "metadata": {
  "kernelspec": {
   "display_name": "main310",
   "language": "python",
   "name": "python3"
  },
  "language_info": {
   "codemirror_mode": {
    "name": "ipython",
    "version": 3
   },
   "file_extension": ".py",
   "mimetype": "text/x-python",
   "name": "python",
   "nbconvert_exporter": "python",
   "pygments_lexer": "ipython3",
   "version": "3.10.14"
  }
 },
 "nbformat": 4,
 "nbformat_minor": 2
}
