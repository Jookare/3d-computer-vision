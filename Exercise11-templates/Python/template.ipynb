{
 "cells": [
  {
   "cell_type": "markdown",
   "metadata": {},
   "source": [
    "# Exercise 11\n",
    "FIRSTNAME LASTNAME"
   ]
  },
  {
   "cell_type": "code",
   "execution_count": null,
   "metadata": {},
   "outputs": [],
   "source": [
    "import numpy as np\n",
    "import h5py\n",
    "import cv2 as cv\n",
    "import matplotlib.pyplot as plt"
   ]
  },
  {
   "cell_type": "code",
   "execution_count": null,
   "metadata": {},
   "outputs": [],
   "source": [
    "file_path = ... # TODO wherever you put the file data.mat\n",
    "with h5py.File(file_path, 'r') as file:\n",
    "    data = {key: np.array(file[key]) for key in file.keys()}\n",
    "\n",
    "fast_square = data['fast_square']\n",
    "slow_square = data['slow_square']\n",
    "start_point = data['start_point'].astype(int).ravel()\n",
    "template = data['template']"
   ]
  },
  {
   "cell_type": "code",
   "execution_count": null,
   "metadata": {},
   "outputs": [],
   "source": [
    "import ipywidgets as wg\n",
    "\n",
    "def slideshow(imgs: np.ndarray):\n",
    "    \"\"\"\n",
    "    Display a slideshow of images in a Jupyter notebook.\n",
    "    Params:\n",
    "        imgs: A 4D numpy array of images (time, height, width, channels). \n",
    "    \"\"\"\n",
    "    if imgs.max() <= 1.:\n",
    "        imgs -= imgs.min()\n",
    "        imgs /= imgs.max()\n",
    "        imgs = (imgs*255).astype(np.uint8)\n",
    "\n",
    "    def encode(img):\n",
    "        _, ret = cv.imencode(\".png\", img)\n",
    "        return ret.tobytes()\n",
    "\n",
    "    def update_image(i, img_widget, imgs):\n",
    "        img_widget.value = encode(imgs[i])\n",
    "\n",
    "    img_widget = wg.Image(value=encode(imgs[0]))\n",
    "    wg.interact(update_image, i=wg.IntSlider(min=0, max=imgs.shape[0] - 1, step=1), img_widget=wg.fixed(img_widget), imgs=wg.fixed(imgs))\n",
    "    return display(img_widget)\n",
    "\n",
    "\n",
    "slideshow(slow_square)"
   ]
  },
  {
   "cell_type": "markdown",
   "metadata": {},
   "source": [
    "## Task 1"
   ]
  },
  {
   "cell_type": "code",
   "execution_count": null,
   "metadata": {},
   "outputs": [],
   "source": [
    "def track(imgs, template, start_point):\n",
    "    # TODO compute gradient using this kernel\n",
    "    kernel = np.array([-0.5,0.,0.5]).reshape(3,1)\n",
    "\n",
    "    # TODO create tha A matrix and the part of the equation that stays constant\n",
    "    A = ...\n",
    "    mult = ...\n",
    "\n",
    "    # TODO compute gradient in time\n",
    "    dt = ...\n",
    "\n",
    "    # TODO track the object thorugh time\n",
    "    # HINT: do not forget, that assignment of a numpy array variable to another variable assigns a reference,\n",
    "    # not a copy. Use np.copy() or arr.copy() to create a copy of the array.\n",
    "\n",
    "    return ...\n",
    "\n",
    "\n",
    "pts_slow = track(slow_square, template, start_point)\n",
    "\n",
    "# TODO draw the bounding boxes and visualize (you can use the provided function)"
   ]
  },
  {
   "cell_type": "code",
   "execution_count": null,
   "metadata": {},
   "outputs": [],
   "source": [
    "pts_fast = track(fast_square, template, start_point)\n",
    "\n",
    "# TODO draw the bounding boxes and visualize (you can use the provided function)"
   ]
  },
  {
   "cell_type": "markdown",
   "metadata": {},
   "source": [
    "## Task 2"
   ]
  },
  {
   "cell_type": "code",
   "execution_count": null,
   "metadata": {},
   "outputs": [],
   "source": [
    "def track_pyramid(imgs, template, start_point):\n",
    "    # TODO downsample necessary stuff\n",
    "    # HINT: you can use cv.pyrDown()\n",
    "\n",
    "\n",
    "    # TODO track object first in the downsampled images, then transform found tracking points to the full resolution and\n",
    "    # use as a basis for tracking in the full resolution\n",
    "\n",
    "    return ...\n",
    "\n",
    "\n",
    "pts_slow = track_pyramid(slow_square, template, start_point)\n",
    "\n",
    "# TODO draw the bounding boxes and visualize (you can use the provided function)"
   ]
  },
  {
   "cell_type": "code",
   "execution_count": null,
   "metadata": {},
   "outputs": [],
   "source": [
    "pts_fast = track_pyramid(fast_square, template, start_point)\n",
    "\n",
    "# TODO draw the bounding boxes and visualize (you can use the provided function)"
   ]
  },
  {
   "cell_type": "markdown",
   "metadata": {},
   "source": [
    "## Task 3"
   ]
  },
  {
   "cell_type": "code",
   "execution_count": null,
   "metadata": {},
   "outputs": [],
   "source": [
    "# TODO load data for the third task\n",
    "img = cv.imread(...)\n",
    "template = cv.imread(...)\n",
    "\n",
    "# points in which you should evaluate the solution\n",
    "starting_points = np.array([(150,15), (50,55), (60,155)])\n"
   ]
  },
  {
   "cell_type": "code",
   "execution_count": null,
   "metadata": {},
   "outputs": [],
   "source": [
    "def get_hist(image):\n",
    "    # TODO implement function which returns the histogram\n",
    "    # HINT: the histogram can be an array of shape (3,1)\n",
    "\n",
    "    return ...\n",
    "\n",
    "def mean_shift(img, template, starting_point, iters=20):\n",
    "    pt = starting_point.copy()\n",
    "    pts = [pt.copy()]\n",
    "    q = get_hist(template)\n",
    "    for iter in range(iters):\n",
    "        # TODO round the current pt, as it can be a float and we need to cut a ROI with it\n",
    "\n",
    "        # TODO cut out the ROI\n",
    "        window = ...\n",
    "\n",
    "        # TODO iterate over the window and compute weights w_i and and other stuff\n",
    "    \n",
    "\n",
    "    return ...\n",
    "\n",
    "pts = mean_shift(img, template, starting_points[2])\n",
    "\n"
   ]
  },
  {
   "cell_type": "code",
   "execution_count": null,
   "metadata": {},
   "outputs": [],
   "source": [
    "\n",
    "# TODO visualize the iterations and how the solution evolves"
   ]
  }
 ],
 "metadata": {
  "kernelspec": {
   "display_name": "main310",
   "language": "python",
   "name": "python3"
  },
  "language_info": {
   "codemirror_mode": {
    "name": "ipython",
    "version": 3
   },
   "file_extension": ".py",
   "mimetype": "text/x-python",
   "name": "python",
   "nbconvert_exporter": "python",
   "pygments_lexer": "ipython3",
   "version": "3.10.14"
  }
 },
 "nbformat": 4,
 "nbformat_minor": 2
}
