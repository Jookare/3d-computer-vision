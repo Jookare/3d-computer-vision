{
 "cells": [
  {
   "cell_type": "markdown",
   "metadata": {},
   "source": [
    "# Introduction to Python Programming\n",
    "\n",
    "Python is a versatile, high-level programming language widely used in academia, industry, and research. It emphasizes readability and simplicity, making it an excellent choice for beginners and experienced programmers alike. Python's syntax is designed to be intuitive, allowing you to focus on solving problems rather than dealing with the intricacies of the language itself.\n",
    "Why Python?\n",
    "\n",
    "Python offers several advantages that make it an attractive alternative to MATLAB for scientific computing, data analysis, and general-purpose programming:\n",
    "\n",
    "- Open-Source and Free: Unlike MATLAB, which requires a license, Python is free to download and use. This makes it accessible to everyone, including students and researchers on tight budgets.\n",
    "- Extensive Libraries: Python has a rich ecosystem of libraries such as NumPy, SciPy, and Matplotlib, which provide functionality similar to MATLAB. Additionally, it has tools like Pandas for data manipulation, and TensorFlow and PyTorch for machine learning.\n",
    "- General-Purpose: Python isn’t just for scientific computing. You can use it to build web applications, automate tasks, analyze data, and much more.\n",
    "- Community Support: Python has a large, active community, which means you can find a wealth of tutorials, forums, and documentation to support your learning.\n",
    "\n",
    "### Key Differences from MATLAB\n",
    "\n",
    "Although both Python and MATLAB are used for numerical computing, there are some important differences to be aware of:\n",
    "\n",
    "- Syntax: Python uses a more general-purpose syntax compared to MATLAB. For example, Python uses indentation to define blocks of code (instead of end keywords), and array indexing starts from 0, not 1 (as is the only correct way).\n",
    "- Data Structures: Python provides flexible data structures like lists, dictionaries, and tuples in addition to arrays (through NumPy).\n",
    "- Programming Paradigms: Python supports multiple programming paradigms, including procedural, object-oriented, and functional programming, while MATLAB primarily focuses on procedural and object-oriented styles.\n",
    "- Interpreted Language: Like MATLAB, Python is an interpreted language, which means you can run code interactively, line by line, making it easy to experiment and debug.\n",
    "\n",
    "### Python's Interactive Environment\n",
    "\n",
    "For MATLAB users accustomed to the Command Window, Python offers similar environments:\n",
    "\n",
    "- IPython and Jupyter Notebooks: These tools allow you to execute Python code interactively, visualize results, and document your workflow, much like MATLAB's live scripts.\n",
    "- Integrated Development Environments (IDEs): Tools like PyCharm, VS Code, and Spyder provide a MATLAB-like experience with features like variable explorers and debugging tools."
   ]
  },
  {
   "cell_type": "markdown",
   "metadata": {},
   "source": [
    "## Installing Python\n",
    "You can follow [this](https://realpython.com/installing-python/) guide. Install some reasonably recent version (>=3.9).\n",
    "\n",
    "### Virtual environment\n",
    "\n",
    "One of the thing which is __highly__ recommended is to use a virtual environment. The reason is that it allows you to have different versions of the same package installed in different environments. This is very useful when you are working on multiple projects and they require different versions of a package. To create a virtual environment using built-in `venv` module, follow [this](https://realpython.com/python-virtual-environments-a-primer/) tutorial. \n",
    "\n",
    "### IDE\n",
    "Python is integrated into many editors. Some of the popular ones are [Visual Studio Code](https://code.visualstudio.com/) and [PyCharm](https://www.jetbrains.com/pycharm/). Both are really good, VSCode is free and you can acquire a free student license for PyCharm. I recommend going for VSCode, as this is what I use so I can help you better if any problems arise. \n",
    "\n",
    "If using VSCode, after installing it you should also install `Python` and `Jupyter` extensions from Microsoft.\n",
    "\n"
   ]
  },
  {
   "cell_type": "markdown",
   "metadata": {},
   "source": [
    "## Useful Resources for Python\n",
    "\n",
    "Here are some valuable resources to help you learn and master Python:\n",
    "\n",
    "1. **Official Python Documentation**: The official Python documentation is an excellent starting point for understanding the language's syntax, standard library, and best practices. You can find it [here](https://docs.python.org/3/).\n",
    "\n",
    "2. **Real Python**: Real Python offers a wide range of tutorials, articles, and courses on various Python topics, from beginner to advanced levels. Visit their website [here](https://realpython.com/).\n",
    "\n",
    "3. **Python for Data Science Handbook**: This book by Jake VanderPlas is a comprehensive guide to using Python for data science, covering libraries like NumPy, Pandas, Matplotlib, and Scikit-Learn. You can access it [here](https://jakevdp.github.io/PythonDataScienceHandbook/).\n",
    "\n",
    "4. **Stack Overflow**: Stack Overflow is a community-driven Q&A site where you can ask questions and find answers related to Python programming. Visit Stack Overflow [here](https://stackoverflow.com/questions/tagged/python).\n",
    "\n",
    "\n",
    "These resources should provide a solid foundation for your Python programming journey."
   ]
  },
  {
   "cell_type": "markdown",
   "metadata": {},
   "source": [
    "## Packages\n",
    "\n",
    "Python by default usually does not have a lot of functionality you may require. To alleviate this problem, python uses packages. Packages are collections of functions and classes that extend Python's capabilities. In a way they are similar to Matlab's toolboxes, but after installation you need to explicitly write in the code that you want to use them. \n",
    "\n",
    "The most commonly used package manger is `pip`. You can install packages using `pip install package_name` in the terminal. You must have your virtual environment active, if you want to install a package there. \n",
    "For example, if you want to install `numpy` you would write `pip install numpy`. \n",
    "\n",
    "\n",
    "To use them in the code you need to use the `import` statement. For example, usage of installed numpy package, it would look like this:\n",
    "\n",
    "```py\n",
    "import numpy\n",
    "m = numpy.zeros((3,3))\n",
    "```\n",
    "\n",
    "You can also alias them\n",
    "```py\n",
    "import numpy as np\n",
    "m = np.zeros((3,3))\n",
    "```\n",
    "\n",
    "import just a specific function\n",
    "```py\n",
    "from numpy import zeros\n",
    "m = zeros((3,3))\n",
    "```\n",
    "\n",
    "or use a wildcard import to import everything into the current namespace. But DON'T do this. There are many [reasons](https://stackoverflow.com/questions/2386714/why-is-import-bad) for that.\n",
    "```py\n",
    "from numpy import *\n",
    "m = zeros((3,3))\n",
    "```\n"
   ]
  },
  {
   "cell_type": "code",
   "execution_count": null,
   "metadata": {},
   "outputs": [],
   "source": []
  },
  {
   "cell_type": "code",
   "execution_count": null,
   "metadata": {},
   "outputs": [],
   "source": []
  },
  {
   "cell_type": "code",
   "execution_count": null,
   "metadata": {},
   "outputs": [],
   "source": []
  }
 ],
 "metadata": {
  "kernelspec": {
   "display_name": "main310",
   "language": "python",
   "name": "python3"
  },
  "language_info": {
   "codemirror_mode": {
    "name": "ipython",
    "version": 3
   },
   "file_extension": ".py",
   "mimetype": "text/x-python",
   "name": "python",
   "nbconvert_exporter": "python",
   "pygments_lexer": "ipython3",
   "version": "3.10.14"
  }
 },
 "nbformat": 4,
 "nbformat_minor": 2
}
